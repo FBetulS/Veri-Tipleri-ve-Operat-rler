{
 "cells": [
  {
   "cell_type": "markdown",
   "id": "a2080958-a621-4ed4-92b5-edd3cbadfdc8",
   "metadata": {},
   "source": [
    "# Veri Tipleri ve Operatörler"
   ]
  },
  {
   "cell_type": "markdown",
   "id": "48506ddd-6f33-4ac5-8adc-d6cce82886e0",
   "metadata": {},
   "source": [
    "## Bölüm 1: Veri Tipleri"
   ]
  },
  {
   "cell_type": "code",
   "execution_count": 3,
   "id": "7808a18a-8057-477b-a9d7-9ceddada5232",
   "metadata": {},
   "outputs": [
    {
     "name": "stdin",
     "output_type": "stream",
     "text": [
      "Adınızı giriniz:  Fatma Betül\n",
      "Yaşınızı giriniz:  22\n",
      "Boyunuzu giriniz (metre cinsinden):  1.65\n"
     ]
    },
    {
     "name": "stdout",
     "output_type": "stream",
     "text": [
      "Merhaba Fatma Betül - Yaşınız: 22 - Boyunuz: 1.65 metre\n"
     ]
    }
   ],
   "source": [
    "ad = input(\"Adınızı giriniz: \")\n",
    "yas = int(input(\"Yaşınızı giriniz: \"))\n",
    "boy = float(input(\"Boyunuzu giriniz (metre cinsinden): \"))\n",
    "\n",
    "print(\"Merhaba\", ad, \"- Yaşınız:\", yas, \"- Boyunuz:\", boy, \"metre\")"
   ]
  },
  {
   "cell_type": "code",
   "execution_count": 5,
   "id": "0528cbd5-bc56-4f90-897c-e9a7c5b72aea",
   "metadata": {},
   "outputs": [
    {
     "name": "stdin",
     "output_type": "stream",
     "text": [
      "Matematik notunu giriniz:  85\n",
      "Fizik notunu giriniz:  90\n",
      "Kimya notunu giriniz:  60\n"
     ]
    },
    {
     "name": "stdout",
     "output_type": "stream",
     "text": [
      "Ortalamanız: 78.33333333333333\n"
     ]
    }
   ],
   "source": [
    "matematik = int(input(\"Matematik notunu giriniz: \"))\n",
    "fizik = int(input(\"Fizik notunu giriniz: \"))\n",
    "kimya = int(input(\"Kimya notunu giriniz: \"))\n",
    "\n",
    "ortalama = (matematik + fizik + kimya) / 3\n",
    "print(\"Ortalamanız:\", float(ortalama))"
   ]
  },
  {
   "cell_type": "code",
   "execution_count": 9,
   "id": "bf946418-4edf-419f-9e59-d9efc8191171",
   "metadata": {},
   "outputs": [
    {
     "name": "stdout",
     "output_type": "stream",
     "text": [
      "İlk karakter: F\n",
      "Son karakter: l\n",
      "Uzunluk: 10\n",
      "Ters: lüteBamtaF\n"
     ]
    }
   ],
   "source": [
    "metin = \"FatmaBetül\"\n",
    "\n",
    "print(\"İlk karakter:\", metin[0])\n",
    "print(\"Son karakter:\", metin[-1])\n",
    "print(\"Uzunluk:\", len(metin))\n",
    "print(\"Ters:\", metin[::-1])"
   ]
  },
  {
   "cell_type": "markdown",
   "id": "a8ee80e9-b9aa-4a93-afe3-0609251c19be",
   "metadata": {},
   "source": [
    "## Bölüm 2: Operatörler"
   ]
  },
  {
   "cell_type": "code",
   "execution_count": 18,
   "id": "9ab24077-8b4e-4e65-ab7f-18020e805cb9",
   "metadata": {},
   "outputs": [
    {
     "name": "stdin",
     "output_type": "stream",
     "text": [
      "Birinci sayı:  13\n",
      "İkinci sayı:  97\n"
     ]
    },
    {
     "name": "stdout",
     "output_type": "stream",
     "text": [
      "Toplam: 110\n",
      "Fark: -84\n",
      "Çarpım: 1261\n",
      "Bölüm: 0.13402061855670103\n",
      "Mod: 13\n"
     ]
    }
   ],
   "source": [
    "sayi1 = int(input(\"Birinci sayı: \"))\n",
    "sayi2 = int(input(\"İkinci sayı: \"))\n",
    "print(\"Toplam:\", sayi1 + sayi2)\n",
    "print(\"Fark:\", sayi1 - sayi2)\n",
    "print(\"Çarpım:\", sayi1 * sayi2)\n",
    "print(\"Bölüm:\", sayi1 / sayi2)\n",
    "print(\"Mod:\", sayi1 % sayi2)"
   ]
  },
  {
   "cell_type": "code",
   "execution_count": 16,
   "id": "e734f9b5-5624-4525-a5b5-b6e4a507abc5",
   "metadata": {},
   "outputs": [
    {
     "name": "stdout",
     "output_type": "stream",
     "text": [
      "Kaldı\n"
     ]
    }
   ],
   "source": [
    "ortalama = 45\n",
    "print(\"Geçti\" if ortalama > 50 else \"Kaldı\")"
   ]
  },
  {
   "cell_type": "markdown",
   "id": "f13148ab-1c72-4717-a30c-1160ced828e0",
   "metadata": {},
   "source": [
    "## Bölüm 3: Mini Proje"
   ]
  },
  {
   "cell_type": "markdown",
   "id": "2a3e0741-cc10-41aa-9237-0b8ff47f27fb",
   "metadata": {},
   "source": [
    "### Alışveriş Sepeti "
   ]
  },
  {
   "cell_type": "code",
   "execution_count": 22,
   "id": "96311145-bcc6-40a4-8c3e-bf73060a213f",
   "metadata": {},
   "outputs": [
    {
     "name": "stdin",
     "output_type": "stream",
     "text": [
      "1. ürün fiyatı:  23\n",
      "2. ürün fiyatı:  56\n",
      "3. ürün fiyatı:  46\n"
     ]
    },
    {
     "name": "stdout",
     "output_type": "stream",
     "text": [
      "Ödenecek tutar: 125.00 TL\n"
     ]
    }
   ],
   "source": [
    "fiyat1 = float(input(\"1. ürün fiyatı: \"))\n",
    "fiyat2 = float(input(\"2. ürün fiyatı: \"))\n",
    "fiyat3 = float(input(\"3. ürün fiyatı: \"))\n",
    "toplam = fiyat1 + fiyat2 + fiyat3\n",
    "if toplam > 200:\n",
    "    toplam *= 0.9  # %10 indirim\n",
    "print(f\"Ödenecek tutar: {toplam:.2f} TL\")"
   ]
  },
  {
   "cell_type": "markdown",
   "id": "37acbb2b-fefe-4cbb-820e-c9fa27dfbb30",
   "metadata": {},
   "source": [
    "### Yaş Grubu Belirleme"
   ]
  },
  {
   "cell_type": "code",
   "execution_count": 29,
   "id": "0a1827fd-cf8e-4eb6-8f5e-b4d41d8f4342",
   "metadata": {},
   "outputs": [
    {
     "name": "stdin",
     "output_type": "stream",
     "text": [
      "Doğum yılınız:  2002\n"
     ]
    },
    {
     "name": "stdout",
     "output_type": "stream",
     "text": [
      "Yetişkinsiniz\n"
     ]
    }
   ],
   "source": [
    "from datetime import datetime\n",
    "dogum_yili = int(input(\"Doğum yılınız: \"))\n",
    "yil = datetime.now().year\n",
    "yas = yil - dogum_yili\n",
    "if yas <= 12:\n",
    "    print(\"Çocuksunuz\")\n",
    "elif 13 <= yas <= 17:\n",
    "    print(\"Ergensiniz\")\n",
    "else:\n",
    "    print(\"Yetişkinsiniz\")"
   ]
  },
  {
   "cell_type": "code",
   "execution_count": null,
   "id": "9ddfb390-aa41-42e5-b80f-f77976bcded2",
   "metadata": {},
   "outputs": [],
   "source": []
  }
 ],
 "metadata": {
  "kernelspec": {
   "display_name": "Python 3 (ipykernel)",
   "language": "python",
   "name": "python3"
  },
  "language_info": {
   "codemirror_mode": {
    "name": "ipython",
    "version": 3
   },
   "file_extension": ".py",
   "mimetype": "text/x-python",
   "name": "python",
   "nbconvert_exporter": "python",
   "pygments_lexer": "ipython3",
   "version": "3.12.7"
  }
 },
 "nbformat": 4,
 "nbformat_minor": 5
}
